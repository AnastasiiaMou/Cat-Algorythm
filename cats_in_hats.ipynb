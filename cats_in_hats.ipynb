{
 "cells": [
  {
   "cell_type": "code",
   "execution_count": 14,
   "metadata": {},
   "outputs": [
    {
     "name": "stdout",
     "output_type": "stream",
     "text": [
      "Cats with hats:  [1, 4, 9, 16, 25, 36, 49, 64, 81, 100]\n"
     ]
    }
   ],
   "source": [
    "def cats_in_hats(num_cats):\n",
    "    cats = [False] * num_cats\n",
    "    for pass_num in range(1, num_cats +1):\n",
    "        for cat in range(pass_num, num_cats + 1, pass_num):\n",
    "            cats[cat - 1] = not cats[cat - 1]\n",
    "    return [i + 1 for i, hat in enumerate(cats) if hat]\n",
    "\n",
    "num_cats = 100\n",
    "result = cats_in_hats(num_cats)\n",
    "print(f\"Cats with hats: \", result)"
   ]
  }
 ],
 "metadata": {
  "kernelspec": {
   "display_name": "Python 3",
   "language": "python",
   "name": "python3"
  },
  "language_info": {
   "codemirror_mode": {
    "name": "ipython",
    "version": 3
   },
   "file_extension": ".py",
   "mimetype": "text/x-python",
   "name": "python",
   "nbconvert_exporter": "python",
   "pygments_lexer": "ipython3",
   "version": "3.10.10"
  },
  "orig_nbformat": 4
 },
 "nbformat": 4,
 "nbformat_minor": 2
}
